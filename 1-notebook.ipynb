{
 "cells": [
  {
   "cell_type": "markdown",
   "id": "c501f3e5-c7ff-449d-8e49-12bbe1c77044",
   "metadata": {},
   "source": [
    "<h1>Data Science Tools and Ecosystem </h1>"
   ]
  },
  {
   "cell_type": "markdown",
   "id": "0931f144-fccd-4437-8d02-45ea07dffa36",
   "metadata": {},
   "source": [
    "In this notebook, Data Science Tools and Ecosystem are summarized."
   ]
  },
  {
   "cell_type": "markdown",
   "id": "35bf38ac-dbc5-423a-8c5b-6a47785fe0dc",
   "metadata": {},
   "source": [
    "OBJECTIVES:\n",
    "- List popular languages for Data Science\n",
    "- List common libraries used by Data Scientists\n",
    "- List 3 Data science tools"
   ]
  },
  {
   "cell_type": "markdown",
   "id": "d4ba3e36-d461-4296-91a2-75f0fcd7203f",
   "metadata": {},
   "source": [
    "Some of the popular languages that Data Scientists use are:\n",
    "1. Python\n",
    "2. R\n",
    "3. SQL"
   ]
  },
  {
   "cell_type": "markdown",
   "id": "33ecc09d-4e17-4ce0-8fad-5650292706c9",
   "metadata": {},
   "source": [
    "Some of the commonly used libraries used by Data Scientists include:\n",
    "\n",
    "1. numpy\n",
    "2. pandas\n",
    "3. matplotlib\n"
   ]
  },
  {
   "cell_type": "markdown",
   "id": "c6e0e655-7626-48dc-8778-f88ec7104433",
   "metadata": {},
   "source": [
    "| Data Science Tools         |\n",
    "|-----------------------------|\n",
    "| Jupyter Notebook             |\n",
    "| RStudio                      |\n",
    "| Apache Zeppelin               |"
   ]
  },
  {
   "cell_type": "markdown",
   "id": "3e9d9034-cd68-4a0e-983f-0239e244d0d0",
   "metadata": {},
   "source": [
    "<h3> Below are a few examples of evaluating arithmetic expressions in Python </h3>"
   ]
  },
  {
   "cell_type": "code",
   "execution_count": 3,
   "id": "a070fbfd-ca13-4f29-aab3-4b2c7ff635a9",
   "metadata": {},
   "outputs": [
    {
     "data": {
      "text/plain": [
       "17"
      ]
     },
     "execution_count": 3,
     "metadata": {},
     "output_type": "execute_result"
    }
   ],
   "source": [
    "# This is a simple arithmetic expression to multiply then add integers.\n",
    "(3*4)+5"
   ]
  },
  {
   "cell_type": "code",
   "execution_count": 2,
   "id": "24a62980-38ad-4180-b87b-42faeec41575",
   "metadata": {},
   "outputs": [
    {
     "data": {
      "text/plain": [
       "3.3333333333333335"
      ]
     },
     "execution_count": 2,
     "metadata": {},
     "output_type": "execute_result"
    }
   ],
   "source": [
    "# This will convert 200 minutes to hours by diving by 60.\n",
    "200/60"
   ]
  },
  {
   "cell_type": "markdown",
   "id": "617c99ee-e4f4-475a-b6a2-993b9209472a",
   "metadata": {},
   "source": [
    "<h2> Author </h2>\n",
    "Jason"
   ]
  },
  {
   "cell_type": "code",
   "execution_count": null,
   "id": "aee82869-2c41-47ce-ba15-fee436beedea",
   "metadata": {},
   "outputs": [],
   "source": []
  }
 ],
 "metadata": {
  "kernelspec": {
   "display_name": "Python 3 (ipykernel)",
   "language": "python",
   "name": "python3"
  },
  "language_info": {
   "codemirror_mode": {
    "name": "ipython",
    "version": 3
   },
   "file_extension": ".py",
   "mimetype": "text/x-python",
   "name": "python",
   "nbconvert_exporter": "python",
   "pygments_lexer": "ipython3",
   "version": "3.12.8"
  }
 },
 "nbformat": 4,
 "nbformat_minor": 5
}
